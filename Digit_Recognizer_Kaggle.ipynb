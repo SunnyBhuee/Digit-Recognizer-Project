{
 "cells": [
  {
   "cell_type": "markdown",
   "metadata": {},
   "source": [
    "<a href=\"https://www.linkedin.com/in/sunnybhuee/\">**LinkedIn/SunnyBhuee**</a>\n",
    "\n",
    "<a href=\"https://github.com/SunnyBhuee\">**github/SunnyBhuee**</a>\n",
    "<HR>\n",
    " # Digit Recognizer Project\n",
    " <HR>"
   ]
  },
  {
   "cell_type": "markdown",
   "metadata": {},
   "source": [
    "**MNIST** is the classic dataset of handwritten images has served as the basis for benchmarking classification algorithms. \n",
    "\n",
    "**Problem:** Our goal is to correctly identify digits from a dataset of tens of thousands of handwritten images. \n",
    "\n",
    "**Data:** The data files ***train.csv*** and ***test.csv*** contain gray-scale images of hand-drawn digits, from zero through nine. Each image is 28 pixels in height and 28 pixels in width, for a total of 784 pixels in total. Each pixel has a single pixel-value associated with it, indicating the lightness or darkness of that pixel, with higher numbers meaning darker. This pixel-value is an integer between 0 and 255, inclusive.\n",
    "\n",
    "**Approach:** We use the train dataset to test two approaches for this dataset i.e. ***K-Nearest Neighbors Classifier*** and ***Decision Tree Classifier***. Then the better of the two approaches is used to classify the images in the test dataset.\n",
    "\n",
    "---\n",
    "**Data Source:** Kaggle.com\n",
    "---"
   ]
  },
  {
   "cell_type": "code",
   "execution_count": 11,
   "metadata": {},
   "outputs": [
    {
     "name": "stdout",
     "output_type": "stream",
     "text": [
      ".\\input\\test.csv\n",
      ".\\input\\train.csv\n",
      "['.\\\\input\\\\train.csv', '.\\\\input\\\\test.csv']\n"
     ]
    }
   ],
   "source": [
    "from PIL import Image\n",
    "import numpy as np # linear algebra\n",
    "import pandas as pd # data processing, CSV file I/O (e.g. pd.read_csv)\n",
    "from sklearn.model_selection import train_test_split\n",
    "import csv\n",
    "import random\n",
    "import matplotlib.pyplot as plt\n",
    "from datetime import datetime\n",
    "from sklearn.neighbors import KNeighborsClassifier\n",
    "from sklearn.metrics import classification_report, confusion_matrix\n",
    "\n",
    "files = []\n",
    "import os\n",
    "for dirname, _, filenames in os.walk('.\\\\input'):\n",
    "    for filename in filenames:\n",
    "        print(os.path.join(dirname, filename))\n",
    "        files.append(os.path.join(dirname, filename))\n",
    "\n",
    "files = sorted(files, reverse=True)\n",
    "\n",
    "print(files)"
   ]
  },
  {
   "cell_type": "code",
   "execution_count": 2,
   "metadata": {
    "collapsed": true
   },
   "outputs": [],
   "source": [
    "def shape_printer(numpy_arr):\n",
    "    assert type(numpy_arr) is str, 'Ensure Input is a String name of the Numpy Array'\n",
    "    print('Shape of {} is {}'.format(numpy_arr,eval(numpy_arr).shape))\n",
    "    \n",
    "def img_visualizer(np_array):\n",
    "    assert type(np_array) is np.ndarray, 'Ensure Input is a Numpy Array'\n",
    "    return Image.fromarray((np_array.reshape((28,28))* 255).astype(np.uint8), \"L\")"
   ]
  },
  {
   "cell_type": "code",
   "execution_count": 3,
   "metadata": {},
   "outputs": [
    {
     "name": "stdout",
     "output_type": "stream",
     "text": [
      "Shape of X is (42000, 784)\n",
      "Shape of y is (42000,)\n",
      "Shape of test_data is (28000, 784)\n"
     ]
    }
   ],
   "source": [
    "X = pd.read_csv(files[0]).iloc[:,1:].values\n",
    "y = pd.read_csv(files[0]).iloc[:,0].values\n",
    "test_data = pd.read_csv(files[1])\n",
    "\n",
    "shape_printer('X')\n",
    "shape_printer('y')\n",
    "shape_printer('test_data')"
   ]
  },
  {
   "cell_type": "code",
   "execution_count": 4,
   "metadata": {},
   "outputs": [
    {
     "name": "stdout",
     "output_type": "stream",
     "text": [
      "Label of image at Index 25649 is 1\n"
     ]
    },
    {
     "data": {
      "image/png": "[encoded data removed]",
      "text/plain": [
       "<PIL.Image.Image image mode=L size=28x28 at 0x26B88C583C8>"
      ]
     },
     "execution_count": 4,
     "metadata": {},
     "output_type": "execute_result"
    }
   ],
   "source": [
    "# Visualizing and checking label of a random image\n",
    "index_of_img = random.randrange(X.shape[0])\n",
    "print('Label of image at Index {} is {}'.format(index_of_img,y[index_of_img]))\n",
    "img_visualizer(X[index_of_img])"
   ]
  },
  {
   "cell_type": "code",
   "execution_count": 5,
   "metadata": {
    "collapsed": true
   },
   "outputs": [],
   "source": [
    "# Train and Test sets\n",
    "X_tr, X_test, y_tr, y_test = train_test_split(X, y, \n",
    "                                              test_size=0.2, \n",
    "                                              random_state=123)"
   ]
  },
  {
   "cell_type": "code",
   "execution_count": 6,
   "metadata": {},
   "outputs": [
    {
     "name": "stdout",
     "output_type": "stream",
     "text": [
      "Shape of X_tr is (33600, 784)\n",
      "Shape of y_tr is (33600,)\n",
      "Shape of X_test is (8400, 784)\n",
      "Shape of y_test is (8400,)\n"
     ]
    }
   ],
   "source": [
    "shape_printer('X_tr')\n",
    "shape_printer('y_tr')\n",
    "shape_printer('X_test')\n",
    "shape_printer('y_test')"
   ]
  },
  {
   "cell_type": "code",
   "execution_count": 47,
   "metadata": {},
   "outputs": [
    {
     "name": "stdout",
     "output_type": "stream",
     "text": [
      "----------------------------------------------------------------------------------------------------\n",
      "Running k = 1\n",
      "Time taken for k = 1: from 2021-01-10 18:11:45.018447 to 2021-01-10 18:17:21.685051 = 0:05:36.666604\n",
      "----------------------------------------------------------------------------------------------------\n",
      "Running k = 2\n",
      "Time taken for k = 2: from 2021-01-10 18:17:21.685051 to 2021-01-10 18:23:01.701862 = 0:05:40.016811\n",
      "----------------------------------------------------------------------------------------------------\n",
      "Running k = 3\n",
      "Time taken for k = 3: from 2021-01-10 18:23:01.702861 to 2021-01-10 18:28:44.524539 = 0:05:42.821678\n"
     ]
    }
   ],
   "source": [
    "\n",
    "\n",
    "accuracy_list = []\n",
    "k_list = []\n",
    "for k in range(1,4):\n",
    "    startTime = datetime.now()\n",
    "    print('-'*100)\n",
    "    print('Running k = {}'.format(k))\n",
    "    knn = KNeighborsClassifier(n_neighbors=k).fit(X_tr, y_tr)\n",
    "    accuracy_list.append(knn.score(X_test, y_test))\n",
    "    k_list.append(k)\n",
    "    print('Time taken for k = {}: from {} to {} = {}'.format(k,\n",
    "                                                             startTime,\n",
    "                                                             datetime.now(),                                                              \n",
    "                                                             datetime.now() - startTime))"
   ]
  },
  {
   "cell_type": "code",
   "execution_count": 48,
   "metadata": {},
   "outputs": [
    {
     "data": {
      "image/png": "[encoded data removed]",
      "text/plain": [
       "<Figure size 432x288 with 1 Axes>"
      ]
     },
     "metadata": {},
     "output_type": "display_data"
    }
   ],
   "source": [
    "plt.plot(k_list, accuracy_list)\n",
    "plt.show()"
   ]
  },
  {
   "cell_type": "markdown",
   "metadata": {},
   "source": [
    "---\n",
    "# Decision Tree"
   ]
  },
  {
   "cell_type": "code",
   "execution_count": 49,
   "metadata": {},
   "outputs": [
    {
     "name": "stdout",
     "output_type": "stream",
     "text": [
      "Accuracy: 0.857023809524\n"
     ]
    }
   ],
   "source": [
    "from sklearn.model_selection import cross_val_score\n",
    "from sklearn.tree import DecisionTreeClassifier\n",
    "from sklearn import metrics\n",
    "\n",
    "clf = DecisionTreeClassifier(random_state=0).fit(X_tr, y_tr)\n",
    "\n",
    "y_pred = clf.predict(X_test)\n",
    "\n",
    "print(\"Accuracy:\",metrics.accuracy_score(y_test, y_pred))"
   ]
  },
  {
   "cell_type": "code",
   "execution_count": 50,
   "metadata": {},
   "outputs": [
    {
     "data": {
      "text/plain": [
       "0.85702380952380952"
      ]
     },
     "execution_count": 50,
     "metadata": {},
     "output_type": "execute_result"
    }
   ],
   "source": [
    "clf.score(X_test, y_test)"
   ]
  },
  {
   "cell_type": "markdown",
   "metadata": {
    "collapsed": true
   },
   "source": [
    "# Predictions using KNN with 3 Nearest Neigbors model"
   ]
  },
  {
   "cell_type": "code",
   "execution_count": 54,
   "metadata": {},
   "outputs": [
    {
     "data": {
      "text/html": [
       "<div>\n",
       "<style scoped>\n",
       "    .dataframe tbody tr th:only-of-type {\n",
       "        vertical-align: middle;\n",
       "    }\n",
       "\n",
       "    .dataframe tbody tr th {\n",
       "        vertical-align: top;\n",
       "    }\n",
       "\n",
       "    .dataframe thead th {\n",
       "        text-align: right;\n",
       "    }\n",
       "</style>\n",
       "<table border=\"1\" class=\"dataframe\">\n",
       "  <thead>\n",
       "    <tr style=\"text-align: right;\">\n",
       "      <th></th>\n",
       "      <th>pixel0</th>\n",
       "      <th>pixel1</th>\n",
       "      <th>pixel2</th>\n",
       "      <th>pixel3</th>\n",
       "      <th>pixel4</th>\n",
       "      <th>pixel5</th>\n",
       "      <th>pixel6</th>\n",
       "      <th>pixel7</th>\n",
       "      <th>pixel8</th>\n",
       "      <th>pixel9</th>\n",
       "      <th>...</th>\n",
       "      <th>pixel775</th>\n",
       "      <th>pixel776</th>\n",
       "      <th>pixel777</th>\n",
       "      <th>pixel778</th>\n",
       "      <th>pixel779</th>\n",
       "      <th>pixel780</th>\n",
       "      <th>pixel781</th>\n",
       "      <th>pixel782</th>\n",
       "      <th>pixel783</th>\n",
       "      <th>Label</th>\n",
       "    </tr>\n",
       "  </thead>\n",
       "  <tbody>\n",
       "    <tr>\n",
       "      <th>0</th>\n",
       "      <td>0</td>\n",
       "      <td>0</td>\n",
       "      <td>0</td>\n",
       "      <td>0</td>\n",
       "      <td>0</td>\n",
       "      <td>0</td>\n",
       "      <td>0</td>\n",
       "      <td>0</td>\n",
       "      <td>0</td>\n",
       "      <td>0</td>\n",
       "      <td>...</td>\n",
       "      <td>0</td>\n",
       "      <td>0</td>\n",
       "      <td>0</td>\n",
       "      <td>0</td>\n",
       "      <td>0</td>\n",
       "      <td>0</td>\n",
       "      <td>0</td>\n",
       "      <td>0</td>\n",
       "      <td>0</td>\n",
       "      <td>2</td>\n",
       "    </tr>\n",
       "    <tr>\n",
       "      <th>1</th>\n",
       "      <td>0</td>\n",
       "      <td>0</td>\n",
       "      <td>0</td>\n",
       "      <td>0</td>\n",
       "      <td>0</td>\n",
       "      <td>0</td>\n",
       "      <td>0</td>\n",
       "      <td>0</td>\n",
       "      <td>0</td>\n",
       "      <td>0</td>\n",
       "      <td>...</td>\n",
       "      <td>0</td>\n",
       "      <td>0</td>\n",
       "      <td>0</td>\n",
       "      <td>0</td>\n",
       "      <td>0</td>\n",
       "      <td>0</td>\n",
       "      <td>0</td>\n",
       "      <td>0</td>\n",
       "      <td>0</td>\n",
       "      <td>0</td>\n",
       "    </tr>\n",
       "    <tr>\n",
       "      <th>2</th>\n",
       "      <td>0</td>\n",
       "      <td>0</td>\n",
       "      <td>0</td>\n",
       "      <td>0</td>\n",
       "      <td>0</td>\n",
       "      <td>0</td>\n",
       "      <td>0</td>\n",
       "      <td>0</td>\n",
       "      <td>0</td>\n",
       "      <td>0</td>\n",
       "      <td>...</td>\n",
       "      <td>0</td>\n",
       "      <td>0</td>\n",
       "      <td>0</td>\n",
       "      <td>0</td>\n",
       "      <td>0</td>\n",
       "      <td>0</td>\n",
       "      <td>0</td>\n",
       "      <td>0</td>\n",
       "      <td>0</td>\n",
       "      <td>9</td>\n",
       "    </tr>\n",
       "    <tr>\n",
       "      <th>3</th>\n",
       "      <td>0</td>\n",
       "      <td>0</td>\n",
       "      <td>0</td>\n",
       "      <td>0</td>\n",
       "      <td>0</td>\n",
       "      <td>0</td>\n",
       "      <td>0</td>\n",
       "      <td>0</td>\n",
       "      <td>0</td>\n",
       "      <td>0</td>\n",
       "      <td>...</td>\n",
       "      <td>0</td>\n",
       "      <td>0</td>\n",
       "      <td>0</td>\n",
       "      <td>0</td>\n",
       "      <td>0</td>\n",
       "      <td>0</td>\n",
       "      <td>0</td>\n",
       "      <td>0</td>\n",
       "      <td>0</td>\n",
       "      <td>9</td>\n",
       "    </tr>\n",
       "    <tr>\n",
       "      <th>4</th>\n",
       "      <td>0</td>\n",
       "      <td>0</td>\n",
       "      <td>0</td>\n",
       "      <td>0</td>\n",
       "      <td>0</td>\n",
       "      <td>0</td>\n",
       "      <td>0</td>\n",
       "      <td>0</td>\n",
       "      <td>0</td>\n",
       "      <td>0</td>\n",
       "      <td>...</td>\n",
       "      <td>0</td>\n",
       "      <td>0</td>\n",
       "      <td>0</td>\n",
       "      <td>0</td>\n",
       "      <td>0</td>\n",
       "      <td>0</td>\n",
       "      <td>0</td>\n",
       "      <td>0</td>\n",
       "      <td>0</td>\n",
       "      <td>3</td>\n",
       "    </tr>\n",
       "  </tbody>\n",
       "</table>\n",
       "<p>5 rows × 785 columns</p>\n",
       "</div>"
      ],
      "text/plain": [
       "   pixel0  pixel1  pixel2  pixel3  pixel4  pixel5  pixel6  pixel7  pixel8  \\\n",
       "0       0       0       0       0       0       0       0       0       0   \n",
       "1       0       0       0       0       0       0       0       0       0   \n",
       "2       0       0       0       0       0       0       0       0       0   \n",
       "3       0       0       0       0       0       0       0       0       0   \n",
       "4       0       0       0       0       0       0       0       0       0   \n",
       "\n",
       "   pixel9  ...    pixel775  pixel776  pixel777  pixel778  pixel779  pixel780  \\\n",
       "0       0  ...           0         0         0         0         0         0   \n",
       "1       0  ...           0         0         0         0         0         0   \n",
       "2       0  ...           0         0         0         0         0         0   \n",
       "3       0  ...           0         0         0         0         0         0   \n",
       "4       0  ...           0         0         0         0         0         0   \n",
       "\n",
       "   pixel781  pixel782  pixel783  Label  \n",
       "0         0         0         0      2  \n",
       "1         0         0         0      0  \n",
       "2         0         0         0      9  \n",
       "3         0         0         0      9  \n",
       "4         0         0         0      3  \n",
       "\n",
       "[5 rows x 785 columns]"
      ]
     },
     "execution_count": 54,
     "metadata": {},
     "output_type": "execute_result"
    }
   ],
   "source": [
    "# Final Model with all the train data:\n",
    "knn = KNeighborsClassifier(n_neighbors=3).fit(X, y)\n",
    "test_data['Label'] = knn.predict(test_data.values)\n",
    "\n",
    "test_data.head()"
   ]
  },
  {
   "cell_type": "code",
   "execution_count": 55,
   "metadata": {},
   "outputs": [
    {
     "name": "stdout",
     "output_type": "stream",
     "text": [
      "Test Data: Label of image at Index 16784 is 8\n"
     ]
    },
    {
     "data": {
      "image/png": "[encoded data removed]",
      "text/plain": [
       "<PIL.Image.Image image mode=L size=28x28 at 0x26B8959B7B8>"
      ]
     },
     "execution_count": 55,
     "metadata": {},
     "output_type": "execute_result"
    }
   ],
   "source": [
    "# Visualizing and checking label of a random image\n",
    "index_of_img = random.randrange(test_data.shape[0])\n",
    "print('Test Data: Label of image at Index {} is {}'.format(index_of_img,test_data['Label'][index_of_img]))\n",
    "img_visualizer(test_data.iloc[:,:-1].iloc[index_of_img,:].values)"
   ]
  },
  {
   "cell_type": "code",
   "execution_count": 57,
   "metadata": {},
   "outputs": [
    {
     "name": "stdout",
     "output_type": "stream",
     "text": [
      "Prediction file \"final_predictions0.csv\" written to \"predictions folder\" in root directory\n"
     ]
    }
   ],
   "source": [
    "final = test_data['Label'].reset_index(drop=False)\n",
    "final[\"ImageId\"] = final[\"index\"] + 1\n",
    "\n",
    "i = 0\n",
    "while os.path.exists(\"./predictions/final_predictions%s.csv\" % i):\n",
    "    i += 1\n",
    "\n",
    "final[[\"ImageId\", \"Label\"]].to_csv('./predictions/final_predictions%s.csv' %i,index=False)\n",
    "\n",
    "print('Prediction file \"{}\" written to \"predictions folder\" in root directory'.\\\n",
    "      format('final_predictions%s.csv' %i))"
   ]
  },
  {
   "cell_type": "markdown",
   "metadata": {},
   "source": [
    "---"
   ]
  },
  {
   "cell_type": "code",
   "execution_count": null,
   "metadata": {
    "collapsed": true
   },
   "outputs": [],
   "source": []
  }
 ],
 "metadata": {
  "anaconda-cloud": {},
  "kernelspec": {
   "display_name": "Python [conda env:Anaconda3]",
   "language": "python",
   "name": "conda-env-Anaconda3-py"
  },
  "language_info": {
   "codemirror_mode": {
    "name": "ipython",
    "version": 3
   },
   "file_extension": ".py",
   "mimetype": "text/x-python",
   "name": "python",
   "nbconvert_exporter": "python",
   "pygments_lexer": "ipython3",
   "version": "3.5.6"
  }
 },
 "nbformat": 4,
 "nbformat_minor": 2
}
